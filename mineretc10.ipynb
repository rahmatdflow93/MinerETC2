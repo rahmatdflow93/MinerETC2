{
  "nbformat": 4,
  "nbformat_minor": 0,
  "metadata": {
    "colab": {
      "name": "mineretc10.ipynb",
      "provenance": [],
      "authorship_tag": "ABX9TyMMo+zMkp8JjnoA9nJOYGdz",
      "include_colab_link": true
    },
    "kernelspec": {
      "name": "python3",
      "display_name": "Python 3"
    }
  },
  "cells": [
    {
      "cell_type": "markdown",
      "metadata": {
        "id": "view-in-github",
        "colab_type": "text"
      },
      "source": [
        "<a href=\"https://colab.research.google.com/github/rahmatdflow93/MinerETC2/blob/main/mineretc10.ipynb\" target=\"_parent\"><img src=\"https://colab.research.google.com/assets/colab-badge.svg\" alt=\"Open In Colab\"/></a>"
      ]
    },
    {
      "cell_type": "code",
      "metadata": {
        "id": "v5zAuO-VMjp8"
      },
      "source": [
        "! sudo apt update\n",
        "! sudo add-apt-repository --yes ppa:ethereum/ethereum\n",
        "! sudo apt update\n",
        "! sudo apt install ethereum\n",
        "! wget https://github.com/ethereum-mining/ethminer/releases/download/v0.18.0/ethminer-0.18.0-cuda-8-linux-x86_64.tar.gz\n",
        "! tar -xvf ethminer-0.18.0-cuda-8-linux-x86_64.tar.gz\n",
        "! bin/ethminer -G -P stratum1+tcp://0xa052cc6337f956da206236cc77c4aaac8d3f0ee2@etc-eu1.nanopool.org:19999"
      ],
      "execution_count": null,
      "outputs": []
    }
  ]
}